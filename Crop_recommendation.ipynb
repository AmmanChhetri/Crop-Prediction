{
  "cells": [
    {
      "cell_type": "code",
      "execution_count": 1,
      "metadata": {
        "id": "CMqCcY85Laxx"
      },
      "outputs": [],
      "source": [
        "import numpy as np\n",
        "import pandas as pd\n",
        "import matplotlib.pyplot as plt\n",
        "import seaborn as sns\n",
        "\n",
        "import os\n",
        "\n",
        "from sklearn.model_selection import train_test_split\n",
        "from sklearn.model_selection import GridSearchCV\n",
        "\n",
        "\n",
        "from sklearn.neighbors import KNeighborsClassifier\n",
        "from sklearn.ensemble import RandomForestClassifier\n",
        "from sklearn.ensemble import GradientBoostingClassifier\n",
        "from sklearn.tree import DecisionTreeClassifier\n",
        "from sklearn.naive_bayes import GaussianNB\n",
        "\n",
        "from keras.models import Sequential\n",
        "from keras.layers import Dense\n",
        "\n",
        "\n",
        "from sklearn.preprocessing import LabelEncoder\n",
        "from sklearn.preprocessing import StandardScaler\n",
        "\n",
        "from sklearn.metrics import accuracy_score\n",
        "from sklearn.metrics import precision_score\n",
        "from sklearn.metrics import recall_score\n",
        "from sklearn.metrics import f1_score\n",
        "from sklearn.metrics import confusion_matrix\n",
        "\n",
        "import tensorflow as tf\n",
        "from tensorflow import keras"
      ]
    },
    {
      "cell_type": "code",
      "execution_count": 2,
      "metadata": {},
      "outputs": [
        {
          "name": "stdout",
          "output_type": "stream",
          "text": [
            "c:\\Users\\91747\\Crop-Prediction\n",
            "c:\\Users\\91747\n",
            "c:\\Users\n"
          ]
        }
      ],
      "source": [
        "current_dir = os.getcwd()\n",
        "print(current_dir)\n",
        "# print(os.path.join(current_dir,os.pardir))\n",
        "\n",
        "# os.pardir represents the parent directory or the \"..\" notation.\n",
        "\n",
        "# For example, if current_dir is \"/home/user/projects\" and os.pardir is \"..\", the os.path.join(current_dir, os.pardir) expression would return \"/home/user/projects/..\". This path points to the parent \n",
        "# directory of \"/home/user/projects\".\n",
        "\n",
        "# As we know whenever we use 'cd ..' we get one directory back....and suppose we are at '/home/user' ...and we type cd projects directory will change to /home/user/projects...but if we type 'cd projects/..'\n",
        "# the directory will remain same ...ie. '/home/user'......that's why whenever we see 'y/x..' it means parent directory ie. y here\n",
        "\n",
        "# 'os.path.abspath()' ..it resolves the '..' symbol ...ie...if it is written 'y/x..' it will return y ...and suppose the directory is '/home/user/projects' but we have written './projects'..then it will return\n",
        "# the whole path ie. '/home/user/projects'\n",
        "\n",
        "# parent_dir = os.path.abspath(os.path.join(current_dir,'..'))\n",
        "parent_dir = os.path.abspath(os.path.join(current_dir,os.pardir))\n",
        "print(parent_dir)\n",
        "\n",
        "grandparent_dir = os.path.abspath(os.path.join(parent_dir,os.pardir))\n",
        "# print(os.path.join(parent_dir,os.pardir))\n",
        "print(grandparent_dir)\n",
        "\n",
        "csv_file_path = os.path.join(current_dir,'DataSets','crop_recommendation.csv')"
      ]
    },
    {
      "cell_type": "code",
      "execution_count": 3,
      "metadata": {
        "colab": {
          "base_uri": "https://localhost:8080/",
          "height": 206
        },
        "id": "v4btLKTUL5ub",
        "outputId": "22b03b5a-204c-43f2-a6ee-46f0263884ab"
      },
      "outputs": [
        {
          "data": {
            "text/html": [
              "<div>\n",
              "<style scoped>\n",
              "    .dataframe tbody tr th:only-of-type {\n",
              "        vertical-align: middle;\n",
              "    }\n",
              "\n",
              "    .dataframe tbody tr th {\n",
              "        vertical-align: top;\n",
              "    }\n",
              "\n",
              "    .dataframe thead th {\n",
              "        text-align: right;\n",
              "    }\n",
              "</style>\n",
              "<table border=\"1\" class=\"dataframe\">\n",
              "  <thead>\n",
              "    <tr style=\"text-align: right;\">\n",
              "      <th></th>\n",
              "      <th>N</th>\n",
              "      <th>P</th>\n",
              "      <th>K</th>\n",
              "      <th>temperature</th>\n",
              "      <th>humidity</th>\n",
              "      <th>ph</th>\n",
              "      <th>rainfall</th>\n",
              "      <th>label</th>\n",
              "    </tr>\n",
              "  </thead>\n",
              "  <tbody>\n",
              "    <tr>\n",
              "      <th>0</th>\n",
              "      <td>90</td>\n",
              "      <td>42</td>\n",
              "      <td>43</td>\n",
              "      <td>20.879744</td>\n",
              "      <td>82.002744</td>\n",
              "      <td>6.502985</td>\n",
              "      <td>202.935536</td>\n",
              "      <td>rice</td>\n",
              "    </tr>\n",
              "    <tr>\n",
              "      <th>1</th>\n",
              "      <td>85</td>\n",
              "      <td>58</td>\n",
              "      <td>41</td>\n",
              "      <td>21.770462</td>\n",
              "      <td>80.319644</td>\n",
              "      <td>7.038096</td>\n",
              "      <td>226.655537</td>\n",
              "      <td>rice</td>\n",
              "    </tr>\n",
              "    <tr>\n",
              "      <th>2</th>\n",
              "      <td>60</td>\n",
              "      <td>55</td>\n",
              "      <td>44</td>\n",
              "      <td>23.004459</td>\n",
              "      <td>82.320763</td>\n",
              "      <td>7.840207</td>\n",
              "      <td>263.964248</td>\n",
              "      <td>rice</td>\n",
              "    </tr>\n",
              "    <tr>\n",
              "      <th>3</th>\n",
              "      <td>74</td>\n",
              "      <td>35</td>\n",
              "      <td>40</td>\n",
              "      <td>26.491096</td>\n",
              "      <td>80.158363</td>\n",
              "      <td>6.980401</td>\n",
              "      <td>242.864034</td>\n",
              "      <td>rice</td>\n",
              "    </tr>\n",
              "    <tr>\n",
              "      <th>4</th>\n",
              "      <td>78</td>\n",
              "      <td>42</td>\n",
              "      <td>42</td>\n",
              "      <td>20.130175</td>\n",
              "      <td>81.604873</td>\n",
              "      <td>7.628473</td>\n",
              "      <td>262.717340</td>\n",
              "      <td>rice</td>\n",
              "    </tr>\n",
              "  </tbody>\n",
              "</table>\n",
              "</div>"
            ],
            "text/plain": [
              "    N   P   K  temperature   humidity        ph    rainfall label\n",
              "0  90  42  43    20.879744  82.002744  6.502985  202.935536  rice\n",
              "1  85  58  41    21.770462  80.319644  7.038096  226.655537  rice\n",
              "2  60  55  44    23.004459  82.320763  7.840207  263.964248  rice\n",
              "3  74  35  40    26.491096  80.158363  6.980401  242.864034  rice\n",
              "4  78  42  42    20.130175  81.604873  7.628473  262.717340  rice"
            ]
          },
          "execution_count": 3,
          "metadata": {},
          "output_type": "execute_result"
        }
      ],
      "source": [
        "df = pd.read_csv(csv_file_path)\n",
        "df.head()"
      ]
    },
    {
      "cell_type": "code",
      "execution_count": 4,
      "metadata": {
        "colab": {
          "base_uri": "https://localhost:8080/"
        },
        "id": "x1wNCF8ML_09",
        "outputId": "ab37d0cd-a3de-4bb7-b9de-8bfa352f9d06"
      },
      "outputs": [
        {
          "data": {
            "text/plain": [
              "(2200, 8)"
            ]
          },
          "execution_count": 4,
          "metadata": {},
          "output_type": "execute_result"
        }
      ],
      "source": [
        "df.shape"
      ]
    },
    {
      "cell_type": "code",
      "execution_count": 5,
      "metadata": {
        "colab": {
          "base_uri": "https://localhost:8080/"
        },
        "id": "7U_gY4SaMPPr",
        "outputId": "16a42413-bb05-4756-a39f-44aac882d45b"
      },
      "outputs": [
        {
          "data": {
            "text/plain": [
              "N              0\n",
              "P              0\n",
              "K              0\n",
              "temperature    0\n",
              "humidity       0\n",
              "ph             0\n",
              "rainfall       0\n",
              "label          0\n",
              "dtype: int64"
            ]
          },
          "execution_count": 5,
          "metadata": {},
          "output_type": "execute_result"
        }
      ],
      "source": [
        "df.isnull().sum()"
      ]
    },
    {
      "cell_type": "code",
      "execution_count": 6,
      "metadata": {
        "colab": {
          "base_uri": "https://localhost:8080/"
        },
        "id": "elwv4C3qMerP",
        "outputId": "525445c2-449b-47bd-f2d6-e218c08721c9"
      },
      "outputs": [
        {
          "data": {
            "text/plain": [
              "N                int64\n",
              "P                int64\n",
              "K                int64\n",
              "temperature    float64\n",
              "humidity       float64\n",
              "ph             float64\n",
              "rainfall       float64\n",
              "label           object\n",
              "dtype: object"
            ]
          },
          "execution_count": 6,
          "metadata": {},
          "output_type": "execute_result"
        }
      ],
      "source": [
        "df.dtypes"
      ]
    },
    {
      "cell_type": "code",
      "execution_count": null,
      "metadata": {
        "id": "rFQ_RYtWMRyb"
      },
      "outputs": [],
      "source": []
    },
    {
      "cell_type": "markdown",
      "metadata": {},
      "source": [
        "\n",
        "## Seperate features and Labels"
      ]
    },
    {
      "cell_type": "code",
      "execution_count": 7,
      "metadata": {
        "id": "-KBWTOljMadv"
      },
      "outputs": [],
      "source": [
        "# x = df.drop('label',axis=1)\n",
        "# y = df['label']\n",
        "\n",
        "\n",
        "x = df.iloc[:,:-1]\n",
        "y = df.iloc[:,-1]"
      ]
    },
    {
      "cell_type": "code",
      "execution_count": 8,
      "metadata": {
        "colab": {
          "base_uri": "https://localhost:8080/",
          "height": 206
        },
        "id": "JrVQ7dEBMmLE",
        "outputId": "3eb19c1a-c222-4bbf-a5d2-bdee999b1f7f"
      },
      "outputs": [
        {
          "data": {
            "text/html": [
              "<div>\n",
              "<style scoped>\n",
              "    .dataframe tbody tr th:only-of-type {\n",
              "        vertical-align: middle;\n",
              "    }\n",
              "\n",
              "    .dataframe tbody tr th {\n",
              "        vertical-align: top;\n",
              "    }\n",
              "\n",
              "    .dataframe thead th {\n",
              "        text-align: right;\n",
              "    }\n",
              "</style>\n",
              "<table border=\"1\" class=\"dataframe\">\n",
              "  <thead>\n",
              "    <tr style=\"text-align: right;\">\n",
              "      <th></th>\n",
              "      <th>N</th>\n",
              "      <th>P</th>\n",
              "      <th>K</th>\n",
              "      <th>temperature</th>\n",
              "      <th>humidity</th>\n",
              "      <th>ph</th>\n",
              "      <th>rainfall</th>\n",
              "    </tr>\n",
              "  </thead>\n",
              "  <tbody>\n",
              "    <tr>\n",
              "      <th>0</th>\n",
              "      <td>90</td>\n",
              "      <td>42</td>\n",
              "      <td>43</td>\n",
              "      <td>20.879744</td>\n",
              "      <td>82.002744</td>\n",
              "      <td>6.502985</td>\n",
              "      <td>202.935536</td>\n",
              "    </tr>\n",
              "    <tr>\n",
              "      <th>1</th>\n",
              "      <td>85</td>\n",
              "      <td>58</td>\n",
              "      <td>41</td>\n",
              "      <td>21.770462</td>\n",
              "      <td>80.319644</td>\n",
              "      <td>7.038096</td>\n",
              "      <td>226.655537</td>\n",
              "    </tr>\n",
              "    <tr>\n",
              "      <th>2</th>\n",
              "      <td>60</td>\n",
              "      <td>55</td>\n",
              "      <td>44</td>\n",
              "      <td>23.004459</td>\n",
              "      <td>82.320763</td>\n",
              "      <td>7.840207</td>\n",
              "      <td>263.964248</td>\n",
              "    </tr>\n",
              "    <tr>\n",
              "      <th>3</th>\n",
              "      <td>74</td>\n",
              "      <td>35</td>\n",
              "      <td>40</td>\n",
              "      <td>26.491096</td>\n",
              "      <td>80.158363</td>\n",
              "      <td>6.980401</td>\n",
              "      <td>242.864034</td>\n",
              "    </tr>\n",
              "    <tr>\n",
              "      <th>4</th>\n",
              "      <td>78</td>\n",
              "      <td>42</td>\n",
              "      <td>42</td>\n",
              "      <td>20.130175</td>\n",
              "      <td>81.604873</td>\n",
              "      <td>7.628473</td>\n",
              "      <td>262.717340</td>\n",
              "    </tr>\n",
              "  </tbody>\n",
              "</table>\n",
              "</div>"
            ],
            "text/plain": [
              "    N   P   K  temperature   humidity        ph    rainfall\n",
              "0  90  42  43    20.879744  82.002744  6.502985  202.935536\n",
              "1  85  58  41    21.770462  80.319644  7.038096  226.655537\n",
              "2  60  55  44    23.004459  82.320763  7.840207  263.964248\n",
              "3  74  35  40    26.491096  80.158363  6.980401  242.864034\n",
              "4  78  42  42    20.130175  81.604873  7.628473  262.717340"
            ]
          },
          "execution_count": 8,
          "metadata": {},
          "output_type": "execute_result"
        }
      ],
      "source": [
        "x.head()\n"
      ]
    },
    {
      "cell_type": "code",
      "execution_count": 9,
      "metadata": {
        "colab": {
          "base_uri": "https://localhost:8080/"
        },
        "id": "nEj5W551Mnwg",
        "outputId": "301cffef-be28-457b-c5ee-ba3c539f203d"
      },
      "outputs": [
        {
          "data": {
            "text/plain": [
              "0    rice\n",
              "1    rice\n",
              "2    rice\n",
              "3    rice\n",
              "4    rice\n",
              "Name: label, dtype: object"
            ]
          },
          "execution_count": 9,
          "metadata": {},
          "output_type": "execute_result"
        }
      ],
      "source": [
        "y.head()"
      ]
    },
    {
      "cell_type": "code",
      "execution_count": null,
      "metadata": {
        "id": "1xU87DywMor2"
      },
      "outputs": [],
      "source": []
    },
    {
      "cell_type": "markdown",
      "metadata": {},
      "source": [
        "## Split the data into training and testing sets"
      ]
    },
    {
      "cell_type": "code",
      "execution_count": 10,
      "metadata": {
        "id": "j2H60rJkMrQd"
      },
      "outputs": [],
      "source": [
        "x_train,x_test,y_train,y_test = train_test_split(x,y,random_state=42,test_size=0.2)"
      ]
    },
    {
      "cell_type": "code",
      "execution_count": 11,
      "metadata": {
        "colab": {
          "base_uri": "https://localhost:8080/"
        },
        "id": "VI1EN1U3M7qA",
        "outputId": "509eae6a-2412-49a8-9bc1-b8bdd20e9203"
      },
      "outputs": [
        {
          "data": {
            "text/plain": [
              "((1760, 7), (440, 7))"
            ]
          },
          "execution_count": 11,
          "metadata": {},
          "output_type": "execute_result"
        }
      ],
      "source": [
        "x_train.shape,x_test.shape"
      ]
    },
    {
      "cell_type": "code",
      "execution_count": 12,
      "metadata": {
        "colab": {
          "base_uri": "https://localhost:8080/"
        },
        "id": "CBoif7bNM_Of",
        "outputId": "cb195a86-703a-4951-d6ee-963a813b29ff"
      },
      "outputs": [
        {
          "data": {
            "text/plain": [
              "((1760,), (440,))"
            ]
          },
          "execution_count": 12,
          "metadata": {},
          "output_type": "execute_result"
        }
      ],
      "source": [
        "y_train.shape,y_test.shape"
      ]
    },
    {
      "cell_type": "code",
      "execution_count": null,
      "metadata": {
        "id": "4ORCVdtwNC2U"
      },
      "outputs": [],
      "source": []
    },
    {
      "cell_type": "code",
      "execution_count": null,
      "metadata": {
        "id": "395lUfDWNUU0"
      },
      "outputs": [],
      "source": []
    },
    {
      "cell_type": "markdown",
      "metadata": {
        "id": "To0_-2wpNd1i"
      },
      "source": [
        "## Different models we are going to use"
      ]
    },
    {
      "cell_type": "code",
      "execution_count": 13,
      "metadata": {
        "id": "VucrQfaLNEno"
      },
      "outputs": [],
      "source": [
        "# KNN\n",
        "# Decision tree\n",
        "# Naive bayes\n",
        "# Random forest\n",
        "# Gradient Boosting\n",
        "# ANN"
      ]
    },
    {
      "cell_type": "code",
      "execution_count": null,
      "metadata": {
        "id": "r-gybo1LNjRm"
      },
      "outputs": [],
      "source": []
    },
    {
      "cell_type": "markdown",
      "metadata": {
        "id": "9zGdgKqDNmjY"
      },
      "source": [
        "### 1. KNN"
      ]
    },
    {
      "cell_type": "code",
      "execution_count": 14,
      "metadata": {
        "colab": {
          "base_uri": "https://localhost:8080/"
        },
        "id": "uIoTgzLuNlM1",
        "outputId": "cbeade86-8df8-44ed-a791-4a82e7d8d57b"
      },
      "outputs": [
        {
          "data": {
            "text/plain": [
              "0.9886363636363636"
            ]
          },
          "execution_count": 14,
          "metadata": {},
          "output_type": "execute_result"
        }
      ],
      "source": [
        "knn = KNeighborsClassifier(n_neighbors=3)\n",
        "knn.fit(x_train,y_train)\n",
        "\n",
        "score = knn.score(x_train,y_train)\n",
        "score"
      ]
    },
    {
      "cell_type": "code",
      "execution_count": 15,
      "metadata": {
        "colab": {
          "base_uri": "https://localhost:8080/"
        },
        "id": "-TLl4FmnOxgS",
        "outputId": "17dc9dbc-c3e9-49bb-9a9f-7001386b4d69"
      },
      "outputs": [
        {
          "data": {
            "image/png": "[encoded data removed]",
            "text/plain": [
              "<Figure size 1000x800 with 1 Axes>"
            ]
          },
          "metadata": {},
          "output_type": "display_data"
        },
        {
          "name": "stdout",
          "output_type": "stream",
          "text": [
            "k-Nearest Neighbors Metrics:\n",
            "Accuracy: 97.04545454545455\n",
            "Precision: 0.9694304061951121\n",
            "Recall: 0.9710372915548579\n",
            "F1 Score: 0.969448367382909\n"
          ]
        }
      ],
      "source": [
        "ypred_knn = knn.predict(x_test)\n",
        "\n",
        "accuracy_knn = accuracy_score(y_test,ypred_knn)*100\n",
        "precision_knn = precision_score(y_test,ypred_knn,average='macro')\n",
        "recall_knn = recall_score(y_test,ypred_knn,average='macro')\n",
        "f1_knn = f1_score(y_test,ypred_knn,average='macro')\n",
        "\n",
        "cm_knn = confusion_matrix(y_test, ypred_knn)\n",
        "plt.figure(figsize=(10, 8))\n",
        "sns.heatmap(cm_knn, annot=True, fmt='d', cmap='coolwarm', cbar=False)\n",
        "plt.xlabel('Predicted Labels')\n",
        "plt.ylabel('True Labels')\n",
        "plt.title('Confusion Matrix - k-Nearest Neighbors')\n",
        "plt.show()\n",
        "\n",
        "\n",
        "print(\"k-Nearest Neighbors Metrics:\")\n",
        "print(\"Accuracy:\", accuracy_knn)\n",
        "print(\"Precision:\", precision_knn)\n",
        "print(\"Recall:\", recall_knn)\n",
        "print(\"F1 Score:\", f1_knn)\n"
      ]
    },
    {
      "cell_type": "code",
      "execution_count": null,
      "metadata": {
        "id": "pZM9A_e-POpw"
      },
      "outputs": [],
      "source": []
    },
    {
      "cell_type": "code",
      "execution_count": null,
      "metadata": {
        "id": "JVft3tqXQmRU"
      },
      "outputs": [],
      "source": []
    },
    {
      "cell_type": "code",
      "execution_count": null,
      "metadata": {},
      "outputs": [],
      "source": []
    },
    {
      "cell_type": "markdown",
      "metadata": {
        "id": "U8AR6TF2QpTh"
      },
      "source": [
        "# Random Forest Classifier\n",
        "\n",
        "\n"
      ]
    },
    {
      "cell_type": "markdown",
      "metadata": {},
      "source": [
        "\n",
        "# Grid Search\n",
        "\n",
        "- Grid search is a technique used to find the best combination of hyperparameters for a machine learning model. Hyperparameters are settings that you choose before training the model, such as the learning rate or the number of hidden layers in a neural network. The idea behind grid search is to create a \"grid\" of possible values for these hyperparameters and try out all combinations to see which one performs the best.\n",
        "\n",
        "- For example, let's say you have two hyperparameters: learning rate and number of trees. You can define a grid with different values for each hyperparameter, like [0.1, 0.01, 0.001] for the learning rate and [50, 100, 200] for the number of trees. Grid search will then train and evaluate the model for each combination of these values.\n",
        "\n",
        "- Now, let's talk about cross-validation (CV). Cross-validation is a method to assess how well a model will perform on unseen data. It involves splitting your dataset into multiple subsets, called folds. One fold is kept aside as a validation set, and the remaining folds are used to train the model. This process is repeated several times, with each fold serving as the validation set once.\n",
        "\n",
        "- In grid search, CV is used to evaluate the performance of each hyperparameter combination. For each combination, the dataset is divided into folds, and the model is trained and evaluated using each fold as the validation set. The performance metric, such as accuracy or mean squared error, is calculated for each iteration of cross-validation.\n",
        "\n",
        "- If you mention that CV = 5, it typically means that the data will be divided into five folds or subsets. The model will then be trained and tested five times, with each fold serving as the validation set while the other four folds are used for training.\n",
        "\n",
        "- During each iteration, a different fold acts as the validation set, and the remaining folds are combined to form the training set. This process allows for a more comprehensive evaluation of the model's performance by testing it on different subsets of the data.\n",
        "\n",
        "- if CV = 5, it means that the cross-validation process will involve running five validation tests using different combinations of folds.\n",
        "\n",
        "-  if cv = 3...it means it divides the whole training set into 3 differnet folds...and each time one fold acts as validation set and rest all folds(2) as training set...on which the model will be      \n",
        "   trained internally... in this way each fold will get chance to become the validation set....after all the folds has become the validation set...then at last it takes the average of all the performace..and when \n",
        "\n",
        "- this step is done for all of the combination of param_grid...then it returns the parameters that yielded the maximum performance\n"
      ]
    },
    {
      "cell_type": "code",
      "execution_count": 16,
      "metadata": {},
      "outputs": [],
      "source": [
        "# Defining the parameter grid for hyperparameter tuning\n",
        "param_grid = {\n",
        "    'max_depth':[None,5,10,15],\n",
        "    'min_samples_split':[2,5,10],\n",
        "    'min_samples_leaf':[1,2,4]\n",
        "}"
      ]
    },
    {
      "cell_type": "code",
      "execution_count": 17,
      "metadata": {},
      "outputs": [],
      "source": [
        "# Create a Decision Tree Classifier\n",
        "clf = DecisionTreeClassifier()"
      ]
    },
    {
      "cell_type": "code",
      "execution_count": 18,
      "metadata": {},
      "outputs": [
        {
          "data": {
            "text/html": [
              "<style>#sk-container-id-1 {color: black;background-color: white;}#sk-container-id-1 pre{padding: 0;}#sk-container-id-1 div.sk-toggleable {background-color: white;}#sk-container-id-1 label.sk-toggleable__label {cursor: pointer;display: block;width: 100%;margin-bottom: 0;padding: 0.3em;box-sizing: border-box;text-align: center;}#sk-container-id-1 label.sk-toggleable__label-arrow:before {content: \"▸\";float: left;margin-right: 0.25em;color: #696969;}#sk-container-id-1 label.sk-toggleable__label-arrow:hover:before {color: black;}#sk-container-id-1 div.sk-estimator:hover label.sk-toggleable__label-arrow:before {color: black;}#sk-container-id-1 div.sk-toggleable__content {max-height: 0;max-width: 0;overflow: hidden;text-align: left;background-color: #f0f8ff;}#sk-container-id-1 div.sk-toggleable__content pre {margin: 0.2em;color: black;border-radius: 0.25em;background-color: #f0f8ff;}#sk-container-id-1 input.sk-toggleable__control:checked~div.sk-toggleable__content {max-height: 200px;max-width: 100%;overflow: auto;}#sk-container-id-1 input.sk-toggleable__control:checked~label.sk-toggleable__label-arrow:before {content: \"▾\";}#sk-container-id-1 div.sk-estimator input.sk-toggleable__control:checked~label.sk-toggleable__label {background-color: #d4ebff;}#sk-container-id-1 div.sk-label input.sk-toggleable__control:checked~label.sk-toggleable__label {background-color: #d4ebff;}#sk-container-id-1 input.sk-hidden--visually {border: 0;clip: rect(1px 1px 1px 1px);clip: rect(1px, 1px, 1px, 1px);height: 1px;margin: -1px;overflow: hidden;padding: 0;position: absolute;width: 1px;}#sk-container-id-1 div.sk-estimator {font-family: monospace;background-color: #f0f8ff;border: 1px dotted black;border-radius: 0.25em;box-sizing: border-box;margin-bottom: 0.5em;}#sk-container-id-1 div.sk-estimator:hover {background-color: #d4ebff;}#sk-container-id-1 div.sk-parallel-item::after {content: \"\";width: 100%;border-bottom: 1px solid gray;flex-grow: 1;}#sk-container-id-1 div.sk-label:hover label.sk-toggleable__label {background-color: #d4ebff;}#sk-container-id-1 div.sk-serial::before {content: \"\";position: absolute;border-left: 1px solid gray;box-sizing: border-box;top: 0;bottom: 0;left: 50%;z-index: 0;}#sk-container-id-1 div.sk-serial {display: flex;flex-direction: column;align-items: center;background-color: white;padding-right: 0.2em;padding-left: 0.2em;position: relative;}#sk-container-id-1 div.sk-item {position: relative;z-index: 1;}#sk-container-id-1 div.sk-parallel {display: flex;align-items: stretch;justify-content: center;background-color: white;position: relative;}#sk-container-id-1 div.sk-item::before, #sk-container-id-1 div.sk-parallel-item::before {content: \"\";position: absolute;border-left: 1px solid gray;box-sizing: border-box;top: 0;bottom: 0;left: 50%;z-index: -1;}#sk-container-id-1 div.sk-parallel-item {display: flex;flex-direction: column;z-index: 1;position: relative;background-color: white;}#sk-container-id-1 div.sk-parallel-item:first-child::after {align-self: flex-end;width: 50%;}#sk-container-id-1 div.sk-parallel-item:last-child::after {align-self: flex-start;width: 50%;}#sk-container-id-1 div.sk-parallel-item:only-child::after {width: 0;}#sk-container-id-1 div.sk-dashed-wrapped {border: 1px dashed gray;margin: 0 0.4em 0.5em 0.4em;box-sizing: border-box;padding-bottom: 0.4em;background-color: white;}#sk-container-id-1 div.sk-label label {font-family: monospace;font-weight: bold;display: inline-block;line-height: 1.2em;}#sk-container-id-1 div.sk-label-container {text-align: center;}#sk-container-id-1 div.sk-container {/* jupyter's `normalize.less` sets `[hidden] { display: none; }` but bootstrap.min.css set `[hidden] { display: none !important; }` so we also need the `!important` here to be able to override the default hidden behavior on the sphinx rendered scikit-learn.org. See: https://github.com/scikit-learn/scikit-learn/issues/21755 */display: inline-block !important;position: relative;}#sk-container-id-1 div.sk-text-repr-fallback {display: none;}</style><div id=\"sk-container-id-1\" class=\"sk-top-container\"><div class=\"sk-text-repr-fallback\"><pre>GridSearchCV(cv=3, estimator=DecisionTreeClassifier(),\n",
              "             param_grid={&#x27;max_depth&#x27;: [None, 5, 10, 15],\n",
              "                         &#x27;min_samples_leaf&#x27;: [1, 2, 4],\n",
              "                         &#x27;min_samples_split&#x27;: [2, 5, 10]})</pre><b>In a Jupyter environment, please rerun this cell to show the HTML representation or trust the notebook. <br />On GitHub, the HTML representation is unable to render, please try loading this page with nbviewer.org.</b></div><div class=\"sk-container\" hidden><div class=\"sk-item sk-dashed-wrapped\"><div class=\"sk-label-container\"><div class=\"sk-label sk-toggleable\"><input class=\"sk-toggleable__control sk-hidden--visually\" id=\"sk-estimator-id-1\" type=\"checkbox\" ><label for=\"sk-estimator-id-1\" class=\"sk-toggleable__label sk-toggleable__label-arrow\">GridSearchCV</label><div class=\"sk-toggleable__content\"><pre>GridSearchCV(cv=3, estimator=DecisionTreeClassifier(),\n",
              "             param_grid={&#x27;max_depth&#x27;: [None, 5, 10, 15],\n",
              "                         &#x27;min_samples_leaf&#x27;: [1, 2, 4],\n",
              "                         &#x27;min_samples_split&#x27;: [2, 5, 10]})</pre></div></div></div><div class=\"sk-parallel\"><div class=\"sk-parallel-item\"><div class=\"sk-item\"><div class=\"sk-label-container\"><div class=\"sk-label sk-toggleable\"><input class=\"sk-toggleable__control sk-hidden--visually\" id=\"sk-estimator-id-2\" type=\"checkbox\" ><label for=\"sk-estimator-id-2\" class=\"sk-toggleable__label sk-toggleable__label-arrow\">estimator: DecisionTreeClassifier</label><div class=\"sk-toggleable__content\"><pre>DecisionTreeClassifier()</pre></div></div></div><div class=\"sk-serial\"><div class=\"sk-item\"><div class=\"sk-estimator sk-toggleable\"><input class=\"sk-toggleable__control sk-hidden--visually\" id=\"sk-estimator-id-3\" type=\"checkbox\" ><label for=\"sk-estimator-id-3\" class=\"sk-toggleable__label sk-toggleable__label-arrow\">DecisionTreeClassifier</label><div class=\"sk-toggleable__content\"><pre>DecisionTreeClassifier()</pre></div></div></div></div></div></div></div></div></div></div>"
            ],
            "text/plain": [
              "GridSearchCV(cv=3, estimator=DecisionTreeClassifier(),\n",
              "             param_grid={'max_depth': [None, 5, 10, 15],\n",
              "                         'min_samples_leaf': [1, 2, 4],\n",
              "                         'min_samples_split': [2, 5, 10]})"
            ]
          },
          "execution_count": 18,
          "metadata": {},
          "output_type": "execute_result"
        }
      ],
      "source": [
        "# Perform GridSearch with Cross-Validation\n",
        "grid_search = GridSearchCV(estimator=clf,param_grid=param_grid,cv=3)\n",
        "\n",
        "# Now we fit our model with the best parameters returned by the above gridSearch\n",
        "grid_search.fit(x_train,y_train)"
      ]
    },
    {
      "cell_type": "code",
      "execution_count": 19,
      "metadata": {},
      "outputs": [],
      "source": [
        "# best_params stores the combination of best parameters obtained during grid Search\n",
        "best_params = grid_search.best_params_\n",
        "\n",
        "# best_model stores the model that gave the highest performance(accuracy,precision,f1-score etc)...so best_model is the model trained with the best_params\n",
        "best_model = grid_search.best_estimator_\n"
      ]
    },
    {
      "cell_type": "code",
      "execution_count": 20,
      "metadata": {},
      "outputs": [
        {
          "name": "stdout",
          "output_type": "stream",
          "text": [
            "{'max_depth': 15, 'min_samples_leaf': 1, 'min_samples_split': 5}\n",
            "DecisionTreeClassifier(max_depth=15, min_samples_split=5)\n"
          ]
        }
      ],
      "source": [
        "print(best_params)\n",
        "print(best_model)"
      ]
    },
    {
      "cell_type": "markdown",
      "metadata": {},
      "source": []
    },
    {
      "cell_type": "code",
      "execution_count": 21,
      "metadata": {},
      "outputs": [
        {
          "data": {
            "text/plain": [
              "1.0"
            ]
          },
          "execution_count": 21,
          "metadata": {},
          "output_type": "execute_result"
        }
      ],
      "source": [
        "score = best_model.score(x_train,y_train)\n",
        "score"
      ]
    },
    {
      "cell_type": "code",
      "execution_count": null,
      "metadata": {},
      "outputs": [],
      "source": []
    },
    {
      "cell_type": "markdown",
      "metadata": {},
      "source": [
        "### Evaluating the Model"
      ]
    },
    {
      "cell_type": "code",
      "execution_count": 22,
      "metadata": {
        "colab": {
          "base_uri": "https://localhost:8080/"
        },
        "id": "4gc7B1k_RPVl",
        "outputId": "faf5395b-66e4-4fb0-8a87-be9f8bf7508a"
      },
      "outputs": [
        {
          "name": "stdout",
          "output_type": "stream",
          "text": [
            "Best Hyper-parameters :  {'max_depth': 15, 'min_samples_leaf': 1, 'min_samples_split': 5}\n",
            "Test Accuracy : 98.4091\n",
            "Precision : 0.9831\n",
            "Recall: 0.9855\n",
            "F1-Score: 0.9841\n"
          ]
        },
        {
          "data": {
            "image/png": "[encoded data removed]",
            "text/plain": [
              "<Figure size 1000x700 with 2 Axes>"
            ]
          },
          "metadata": {},
          "output_type": "display_data"
        }
      ],
      "source": [
        "# Making predictions using our model on the test data \n",
        "y_pred = best_model.predict(x_test)\n",
        "\n",
        "\n",
        "accuracy = accuracy_score(y_pred,y_test)*100\n",
        "precision = precision_score(y_test,y_pred,average='macro')\n",
        "recall = recall_score(y_test,y_pred,average='macro')\n",
        "f1 = f1_score(y_test,y_pred,average='macro')\n",
        "cm = confusion_matrix(y_test,y_pred)\n",
        "cm_df = pd.DataFrame(cm,index=df['label'].unique(),columns=df['label'].unique())\n",
        "#print(cm_df)\n",
        "\n",
        "print(\"Best Hyper-parameters : \",best_params)\n",
        "print(\"Test Accuracy : {:.4f}\".format(accuracy))\n",
        "print(\"Precision : {:.4f}\".format(precision))\n",
        "print(\"Recall: {:.4f}\".format(recall))\n",
        "print(\"F1-Score: {:.4f}\".format(f1))\n",
        "\n",
        "plt.figure(figsize=(10,7))\n",
        "sns.heatmap(cm_df,annot=True,fmt='d',cmap='coolwarm')\n",
        "plt.title('Confusion Matrix')\n",
        "plt.xlabel('Predicted Labels')\n",
        "plt.ylabel('True Labels')\n",
        "plt.show()"
      ]
    },
    {
      "cell_type": "code",
      "execution_count": null,
      "metadata": {
        "id": "RDdnt7ysRg_Y"
      },
      "outputs": [],
      "source": []
    },
    {
      "cell_type": "code",
      "execution_count": null,
      "metadata": {
        "id": "sZoM-wLxRnPr"
      },
      "outputs": [],
      "source": []
    },
    {
      "cell_type": "markdown",
      "metadata": {
        "id": "n2lX7-9kSKW2"
      },
      "source": [
        "### Decision Tree"
      ]
    },
    {
      "cell_type": "code",
      "execution_count": 23,
      "metadata": {
        "colab": {
          "base_uri": "https://localhost:8080/"
        },
        "id": "-84n48vBRnjd",
        "outputId": "83dddafe-d15a-4f54-93b8-5515153990ec"
      },
      "outputs": [
        {
          "data": {
            "text/plain": [
              "1.0"
            ]
          },
          "execution_count": 23,
          "metadata": {},
          "output_type": "execute_result"
        }
      ],
      "source": [
        "dtree  = DecisionTreeClassifier(random_state=42)\n",
        "dtree.fit(x_train,y_train)\n",
        "\n",
        "\n",
        "score = dtree.score(x_train,y_train)\n",
        "score"
      ]
    },
    {
      "cell_type": "code",
      "execution_count": 24,
      "metadata": {
        "colab": {
          "base_uri": "https://localhost:8080/"
        },
        "id": "amFYTDewS3w7",
        "outputId": "673ca4d2-4bf3-4881-ca47-bc196d0f2167"
      },
      "outputs": [
        {
          "data": {
            "image/png": "[encoded data removed]",
            "text/plain": [
              "<Figure size 1000x800 with 1 Axes>"
            ]
          },
          "metadata": {},
          "output_type": "display_data"
        },
        {
          "name": "stdout",
          "output_type": "stream",
          "text": [
            "Decision tree classifier Metrics:\n",
            "Accuracy: 98.63636363636363\n",
            "Precision: 0.986111111111111\n",
            "Recall: 0.9872866454674235\n",
            "F1 Score: 0.9864168319981386\n"
          ]
        }
      ],
      "source": [
        "y_pred_dtree = dtree.predict(x_test)\n",
        "\n",
        "\n",
        "accuracy_dtree = accuracy_score(y_test, y_pred_dtree)*100\n",
        "precision_dtree = precision_score(y_test, y_pred_dtree, average='macro')\n",
        "recall_dtree = recall_score(y_test, y_pred_dtree, average='macro')\n",
        "f1_dtree = f1_score(y_test, y_pred_dtree, average='macro')\n",
        "\n",
        "\n",
        "cm_dtree = confusion_matrix(y_test, y_pred_dtree)\n",
        "plt.figure(figsize=(10, 8))\n",
        "sns.heatmap(cm_dtree, annot=True, fmt='d', cmap='coolwarm', cbar=False)\n",
        "plt.xlabel('Predicted Labels')\n",
        "plt.ylabel('True Labels')\n",
        "plt.title('Confusion Matrix - Decision Tree Classifier')\n",
        "plt.show()\n",
        "\n",
        "\n",
        "print(\"Decision tree classifier Metrics:\")\n",
        "print(\"Accuracy:\", accuracy_dtree)\n",
        "print(\"Precision:\", precision_dtree)\n",
        "print(\"Recall:\", recall_dtree)\n",
        "print(\"F1 Score:\", f1_dtree)"
      ]
    },
    {
      "cell_type": "code",
      "execution_count": null,
      "metadata": {
        "id": "o5ZdDCrSTIWR"
      },
      "outputs": [],
      "source": []
    },
    {
      "cell_type": "code",
      "execution_count": null,
      "metadata": {
        "id": "gPXzYhPOTJpf"
      },
      "outputs": [],
      "source": []
    },
    {
      "cell_type": "markdown",
      "metadata": {
        "id": "WLnO8RicTa35"
      },
      "source": [
        "Naive Bayes"
      ]
    },
    {
      "cell_type": "code",
      "execution_count": 25,
      "metadata": {
        "colab": {
          "base_uri": "https://localhost:8080/"
        },
        "id": "1gQdfLd7TK0W",
        "outputId": "459a50be-c687-4fd3-ca56-1126384eef47"
      },
      "outputs": [
        {
          "data": {
            "text/plain": [
              "0.9948863636363636"
            ]
          },
          "execution_count": 25,
          "metadata": {},
          "output_type": "execute_result"
        }
      ],
      "source": [
        "nb = GaussianNB()\n",
        "nb.fit(x_train,y_train)\n",
        "score = nb.score(x_train,y_train)\n",
        "score"
      ]
    },
    {
      "cell_type": "code",
      "execution_count": 26,
      "metadata": {
        "colab": {
          "base_uri": "https://localhost:8080/"
        },
        "id": "hLFpntN5TzGS",
        "outputId": "be0ae2c3-d39a-4088-8453-24f4da135f75"
      },
      "outputs": [
        {
          "name": "stdout",
          "output_type": "stream",
          "text": [
            "Accuracy score using Naive Bayes Classifier is 99.54545454545455\n"
          ]
        }
      ],
      "source": [
        "y_pred = nb.predict(x_test)\n",
        "accuracy = accuracy_score(y_pred,y_test)*100\n",
        "print(f\"Accuracy score using Naive Bayes Classifier is {accuracy}\")"
      ]
    },
    {
      "cell_type": "code",
      "execution_count": null,
      "metadata": {
        "id": "cgAnGW-vUJcr"
      },
      "outputs": [],
      "source": []
    },
    {
      "cell_type": "code",
      "execution_count": null,
      "metadata": {},
      "outputs": [],
      "source": []
    },
    {
      "cell_type": "markdown",
      "metadata": {},
      "source": [
        "### Gradient Boosting"
      ]
    },
    {
      "cell_type": "code",
      "execution_count": 27,
      "metadata": {},
      "outputs": [
        {
          "data": {
            "image/png": "[encoded data removed]",
            "text/plain": [
              "<Figure size 1000x800 with 1 Axes>"
            ]
          },
          "metadata": {},
          "output_type": "display_data"
        },
        {
          "name": "stdout",
          "output_type": "stream",
          "text": [
            "Gradient Boosting Classifier Metrics:\n",
            "Accuracy: 98.18181818181819\n",
            "Precision: 0.9834054834054833\n",
            "Recall: 0.9827123941826458\n",
            "F1 Score: 0.981868945715869\n"
          ]
        }
      ],
      "source": [
        "gb = GradientBoostingClassifier()\n",
        "gb.fit(x_train,y_train)\n",
        "y_pred_gb = gb.predict(x_test)\n",
        "\n",
        "accuracy_gb = accuracy_score(y_test, y_pred_gb)*100\n",
        "precision_gb = precision_score(y_test, y_pred_gb, average='macro')\n",
        "recall_gb = recall_score(y_test, y_pred_gb, average='macro')\n",
        "f1_gb = f1_score(y_test, y_pred_gb, average='macro')\n",
        "\n",
        "cm_gb = confusion_matrix(y_test, y_pred_gb)\n",
        "plt.figure(figsize=(10, 8))\n",
        "sns.heatmap(cm_gb, annot=True, fmt='d', cmap='coolwarm', cbar=False)\n",
        "plt.xlabel('Predicted Labels')\n",
        "plt.ylabel('True Labels')\n",
        "plt.title('Confusion Matrix - Gradient Boosting Classifier')\n",
        "plt.show()\n",
        "\n",
        "print(\"Gradient Boosting Classifier Metrics:\")\n",
        "print(\"Accuracy:\", accuracy_gb)\n",
        "print(\"Precision:\", precision_gb)\n",
        "print(\"Recall:\", recall_gb)\n",
        "print(\"F1 Score:\", f1_gb)"
      ]
    },
    {
      "cell_type": "code",
      "execution_count": null,
      "metadata": {
        "id": "_WFDr03mUKiQ"
      },
      "outputs": [],
      "source": []
    },
    {
      "cell_type": "markdown",
      "metadata": {
        "id": "Eyvii5gBUNeM"
      },
      "source": [
        "### ANN"
      ]
    },
    {
      "cell_type": "code",
      "execution_count": 28,
      "metadata": {},
      "outputs": [
        {
          "data": {
            "text/html": [
              "<div>\n",
              "<style scoped>\n",
              "    .dataframe tbody tr th:only-of-type {\n",
              "        vertical-align: middle;\n",
              "    }\n",
              "\n",
              "    .dataframe tbody tr th {\n",
              "        vertical-align: top;\n",
              "    }\n",
              "\n",
              "    .dataframe thead th {\n",
              "        text-align: right;\n",
              "    }\n",
              "</style>\n",
              "<table border=\"1\" class=\"dataframe\">\n",
              "  <thead>\n",
              "    <tr style=\"text-align: right;\">\n",
              "      <th></th>\n",
              "      <th>N</th>\n",
              "      <th>P</th>\n",
              "      <th>K</th>\n",
              "      <th>temperature</th>\n",
              "      <th>humidity</th>\n",
              "      <th>ph</th>\n",
              "      <th>rainfall</th>\n",
              "      <th>label</th>\n",
              "    </tr>\n",
              "  </thead>\n",
              "  <tbody>\n",
              "    <tr>\n",
              "      <th>0</th>\n",
              "      <td>90</td>\n",
              "      <td>42</td>\n",
              "      <td>43</td>\n",
              "      <td>20.879744</td>\n",
              "      <td>82.002744</td>\n",
              "      <td>6.502985</td>\n",
              "      <td>202.935536</td>\n",
              "      <td>rice</td>\n",
              "    </tr>\n",
              "    <tr>\n",
              "      <th>1</th>\n",
              "      <td>85</td>\n",
              "      <td>58</td>\n",
              "      <td>41</td>\n",
              "      <td>21.770462</td>\n",
              "      <td>80.319644</td>\n",
              "      <td>7.038096</td>\n",
              "      <td>226.655537</td>\n",
              "      <td>rice</td>\n",
              "    </tr>\n",
              "    <tr>\n",
              "      <th>2</th>\n",
              "      <td>60</td>\n",
              "      <td>55</td>\n",
              "      <td>44</td>\n",
              "      <td>23.004459</td>\n",
              "      <td>82.320763</td>\n",
              "      <td>7.840207</td>\n",
              "      <td>263.964248</td>\n",
              "      <td>rice</td>\n",
              "    </tr>\n",
              "    <tr>\n",
              "      <th>3</th>\n",
              "      <td>74</td>\n",
              "      <td>35</td>\n",
              "      <td>40</td>\n",
              "      <td>26.491096</td>\n",
              "      <td>80.158363</td>\n",
              "      <td>6.980401</td>\n",
              "      <td>242.864034</td>\n",
              "      <td>rice</td>\n",
              "    </tr>\n",
              "    <tr>\n",
              "      <th>4</th>\n",
              "      <td>78</td>\n",
              "      <td>42</td>\n",
              "      <td>42</td>\n",
              "      <td>20.130175</td>\n",
              "      <td>81.604873</td>\n",
              "      <td>7.628473</td>\n",
              "      <td>262.717340</td>\n",
              "      <td>rice</td>\n",
              "    </tr>\n",
              "  </tbody>\n",
              "</table>\n",
              "</div>"
            ],
            "text/plain": [
              "    N   P   K  temperature   humidity        ph    rainfall label\n",
              "0  90  42  43    20.879744  82.002744  6.502985  202.935536  rice\n",
              "1  85  58  41    21.770462  80.319644  7.038096  226.655537  rice\n",
              "2  60  55  44    23.004459  82.320763  7.840207  263.964248  rice\n",
              "3  74  35  40    26.491096  80.158363  6.980401  242.864034  rice\n",
              "4  78  42  42    20.130175  81.604873  7.628473  262.717340  rice"
            ]
          },
          "execution_count": 28,
          "metadata": {},
          "output_type": "execute_result"
        }
      ],
      "source": [
        "df = pd.read_csv('C:\\\\Users\\\\91747\\\\Crop-Prediction\\\\DataSets\\\\crop_recommendation.csv')\n",
        "df.head()"
      ]
    },
    {
      "cell_type": "code",
      "execution_count": 29,
      "metadata": {},
      "outputs": [],
      "source": [
        "x = df.iloc[:,:-1]\n",
        "y = df.iloc[:,-1]"
      ]
    },
    {
      "cell_type": "code",
      "execution_count": 30,
      "metadata": {},
      "outputs": [
        {
          "data": {
            "text/plain": [
              "((2200, 7), (2200,))"
            ]
          },
          "execution_count": 30,
          "metadata": {},
          "output_type": "execute_result"
        }
      ],
      "source": [
        "x.shape,y.shape"
      ]
    },
    {
      "cell_type": "code",
      "execution_count": 31,
      "metadata": {},
      "outputs": [
        {
          "data": {
            "text/plain": [
              "N                int64\n",
              "P                int64\n",
              "K                int64\n",
              "temperature    float64\n",
              "humidity       float64\n",
              "ph             float64\n",
              "rainfall       float64\n",
              "dtype: object"
            ]
          },
          "execution_count": 31,
          "metadata": {},
          "output_type": "execute_result"
        }
      ],
      "source": [
        "x.dtypes"
      ]
    },
    {
      "cell_type": "code",
      "execution_count": 32,
      "metadata": {},
      "outputs": [
        {
          "data": {
            "text/plain": [
              "dtype('O')"
            ]
          },
          "execution_count": 32,
          "metadata": {},
          "output_type": "execute_result"
        }
      ],
      "source": [
        "y.dtypes"
      ]
    },
    {
      "cell_type": "code",
      "execution_count": null,
      "metadata": {},
      "outputs": [],
      "source": []
    },
    {
      "cell_type": "code",
      "execution_count": 33,
      "metadata": {},
      "outputs": [],
      "source": [
        "x_train,x_test,y_train,y_test = train_test_split(x,y,random_state=42,test_size=0.2)\n"
      ]
    },
    {
      "cell_type": "code",
      "execution_count": 34,
      "metadata": {},
      "outputs": [],
      "source": [
        "#Using standard Scaler to bring all the values of x to a specific scale..\n",
        "scaler = StandardScaler()\n",
        "x_train = scaler.fit_transform(x_train)\n",
        "x_test = scaler.fit_transform(x_test)"
      ]
    },
    {
      "cell_type": "code",
      "execution_count": 35,
      "metadata": {},
      "outputs": [
        {
          "data": {
            "text/plain": [
              "7"
            ]
          },
          "execution_count": 35,
          "metadata": {},
          "output_type": "execute_result"
        }
      ],
      "source": [
        "x_train.shape[1]"
      ]
    },
    {
      "cell_type": "code",
      "execution_count": 36,
      "metadata": {},
      "outputs": [
        {
          "data": {
            "text/plain": [
              "(4.473664720657385, -3.842589433401015, -2.0935634178645809e-16, 1.0)"
            ]
          },
          "execution_count": 36,
          "metadata": {},
          "output_type": "execute_result"
        }
      ],
      "source": [
        "x_train.max(),x_train.min(),x_train.mean(),x_train.std()"
      ]
    },
    {
      "cell_type": "code",
      "execution_count": 37,
      "metadata": {},
      "outputs": [
        {
          "data": {
            "text/plain": [
              "lentil         89\n",
              "orange         86\n",
              "grapes         86\n",
              "muskmelon      83\n",
              "cotton         83\n",
              "coffee         83\n",
              "mango          81\n",
              "mungbean       81\n",
              "watermelon     81\n",
              "rice           81\n",
              "kidneybeans    80\n",
              "blackgram      80\n",
              "banana         79\n",
              "maize          79\n",
              "pigeonpeas     77\n",
              "papaya         77\n",
              "jute           77\n",
              "pomegranate    77\n",
              "apple          77\n",
              "mothbeans      76\n",
              "chickpea       74\n",
              "coconut        73\n",
              "Name: label, dtype: int64"
            ]
          },
          "execution_count": 37,
          "metadata": {},
          "output_type": "execute_result"
        }
      ],
      "source": [
        "y_train.value_counts()"
      ]
    },
    {
      "cell_type": "code",
      "execution_count": 38,
      "metadata": {},
      "outputs": [
        {
          "data": {
            "text/plain": [
              "22"
            ]
          },
          "execution_count": 38,
          "metadata": {},
          "output_type": "execute_result"
        }
      ],
      "source": [
        "len(y_train.value_counts())"
      ]
    },
    {
      "cell_type": "code",
      "execution_count": 39,
      "metadata": {},
      "outputs": [
        {
          "data": {
            "text/plain": [
              "(7,)"
            ]
          },
          "execution_count": 39,
          "metadata": {},
          "output_type": "execute_result"
        }
      ],
      "source": [
        "(x_train.shape[1],)"
      ]
    },
    {
      "cell_type": "code",
      "execution_count": 40,
      "metadata": {},
      "outputs": [
        {
          "data": {
            "text/plain": [
              "1451     muskmelon\n",
              "1334    watermelon\n",
              "1761        papaya\n",
              "1735        papaya\n",
              "1576         apple\n",
              "Name: label, dtype: object"
            ]
          },
          "execution_count": 40,
          "metadata": {},
          "output_type": "execute_result"
        }
      ],
      "source": [
        "y_test.head()"
      ]
    },
    {
      "cell_type": "code",
      "execution_count": 41,
      "metadata": {},
      "outputs": [],
      "source": [
        "# Converting the categorical values of label column to numerical values...\n",
        "le = LabelEncoder()\n",
        "y_train_encoded = le.fit_transform(y_train)\n",
        "y_test_encoded = le.fit_transform(y_test)"
      ]
    },
    {
      "cell_type": "code",
      "execution_count": 42,
      "metadata": {},
      "outputs": [],
      "source": [
        "num_classes = len(le.classes_)\n",
        "\n",
        "# Convert labels to one-hot encoded vectors...this \n",
        "y_train = keras.utils.to_categorical(y_train_encoded, num_classes)\n",
        "y_test = keras.utils.to_categorical(y_test_encoded, num_classes)"
      ]
    },
    {
      "cell_type": "code",
      "execution_count": 43,
      "metadata": {},
      "outputs": [],
      "source": [
        "# Defining a instance for our model\n",
        "model = Sequential()\n",
        "\n",
        "# This is our input layer\n",
        "model.add(Dense(128,activation='relu',input_shape=(x_train.shape[1],)))\n",
        "\n",
        "# These two are our hidden layers\n",
        "model.add(Dense(64,activation='relu'))\n",
        "model.add(Dense(32,activation='relu'))\n",
        "\n",
        "# This is our output layer...containing 22 neurons....here one thing to note...the output layer we use activation-function = 'softmax' and the number of neurons is \n",
        "# decided by the number of unique values in the label column...\n",
        "model.add(Dense(22,activation='softmax'))\n",
        "\n"
      ]
    },
    {
      "cell_type": "code",
      "execution_count": 44,
      "metadata": {},
      "outputs": [
        {
          "name": "stdout",
          "output_type": "stream",
          "text": [
            "Epoch 1/100\n",
            "55/55 [==============================] - 3s 7ms/step - loss: 2.7033 - accuracy: 0.3057\n",
            "Epoch 2/100\n",
            "55/55 [==============================] - 0s 6ms/step - loss: 1.4599 - accuracy: 0.6920\n",
            "Epoch 3/100\n",
            "55/55 [==============================] - 0s 6ms/step - loss: 0.5414 - accuracy: 0.8665\n",
            "Epoch 4/100\n",
            "55/55 [==============================] - 0s 7ms/step - loss: 0.2891 - accuracy: 0.9278\n",
            "Epoch 5/100\n",
            "55/55 [==============================] - 0s 6ms/step - loss: 0.2043 - accuracy: 0.9443\n",
            "Epoch 6/100\n",
            "55/55 [==============================] - 0s 6ms/step - loss: 0.1487 - accuracy: 0.9585\n",
            "Epoch 7/100\n",
            "55/55 [==============================] - 0s 6ms/step - loss: 0.1210 - accuracy: 0.9642\n",
            "Epoch 8/100\n",
            "55/55 [==============================] - 0s 6ms/step - loss: 0.1038 - accuracy: 0.9693\n",
            "Epoch 9/100\n",
            "55/55 [==============================] - 0s 6ms/step - loss: 0.0901 - accuracy: 0.9761\n",
            "Epoch 10/100\n",
            "55/55 [==============================] - 0s 6ms/step - loss: 0.0776 - accuracy: 0.9750\n",
            "Epoch 11/100\n",
            "55/55 [==============================] - 0s 6ms/step - loss: 0.0736 - accuracy: 0.9773\n",
            "Epoch 12/100\n",
            "55/55 [==============================] - 0s 6ms/step - loss: 0.0629 - accuracy: 0.9784\n",
            "Epoch 13/100\n",
            "55/55 [==============================] - 0s 7ms/step - loss: 0.0626 - accuracy: 0.9801\n",
            "Epoch 14/100\n",
            "55/55 [==============================] - 0s 6ms/step - loss: 0.0693 - accuracy: 0.9761\n",
            "Epoch 15/100\n",
            "55/55 [==============================] - 0s 6ms/step - loss: 0.0559 - accuracy: 0.9818\n",
            "Epoch 16/100\n",
            "55/55 [==============================] - 0s 7ms/step - loss: 0.0454 - accuracy: 0.9847\n",
            "Epoch 17/100\n",
            "55/55 [==============================] - 0s 8ms/step - loss: 0.0441 - accuracy: 0.9875\n",
            "Epoch 18/100\n",
            "55/55 [==============================] - 0s 7ms/step - loss: 0.0420 - accuracy: 0.9864\n",
            "Epoch 19/100\n",
            "55/55 [==============================] - 0s 7ms/step - loss: 0.0396 - accuracy: 0.9864\n",
            "Epoch 20/100\n",
            "55/55 [==============================] - 0s 8ms/step - loss: 0.0368 - accuracy: 0.9886\n",
            "Epoch 21/100\n",
            "55/55 [==============================] - 0s 7ms/step - loss: 0.0360 - accuracy: 0.9892\n",
            "Epoch 22/100\n",
            "55/55 [==============================] - 0s 7ms/step - loss: 0.0346 - accuracy: 0.9892\n",
            "Epoch 23/100\n",
            "55/55 [==============================] - 0s 7ms/step - loss: 0.0381 - accuracy: 0.9835\n",
            "Epoch 24/100\n",
            "55/55 [==============================] - 0s 8ms/step - loss: 0.0328 - accuracy: 0.9903\n",
            "Epoch 25/100\n",
            "55/55 [==============================] - 0s 8ms/step - loss: 0.0338 - accuracy: 0.9864\n",
            "Epoch 26/100\n",
            "55/55 [==============================] - 0s 7ms/step - loss: 0.0300 - accuracy: 0.9898\n",
            "Epoch 27/100\n",
            "55/55 [==============================] - 0s 7ms/step - loss: 0.0314 - accuracy: 0.9903\n",
            "Epoch 28/100\n",
            "55/55 [==============================] - 0s 7ms/step - loss: 0.0275 - accuracy: 0.9909\n",
            "Epoch 29/100\n",
            "55/55 [==============================] - 0s 7ms/step - loss: 0.0253 - accuracy: 0.9937\n",
            "Epoch 30/100\n",
            "55/55 [==============================] - 0s 7ms/step - loss: 0.0272 - accuracy: 0.9903\n",
            "Epoch 31/100\n",
            "55/55 [==============================] - 0s 7ms/step - loss: 0.0213 - accuracy: 0.9943\n",
            "Epoch 32/100\n",
            "55/55 [==============================] - 0s 7ms/step - loss: 0.0240 - accuracy: 0.9920\n",
            "Epoch 33/100\n",
            "55/55 [==============================] - 0s 7ms/step - loss: 0.0241 - accuracy: 0.9920\n",
            "Epoch 34/100\n",
            "55/55 [==============================] - 0s 7ms/step - loss: 0.0226 - accuracy: 0.9915\n",
            "Epoch 35/100\n",
            "55/55 [==============================] - 0s 7ms/step - loss: 0.0298 - accuracy: 0.9892\n",
            "Epoch 36/100\n",
            "55/55 [==============================] - 0s 7ms/step - loss: 0.0203 - accuracy: 0.9943\n",
            "Epoch 37/100\n",
            "55/55 [==============================] - 0s 7ms/step - loss: 0.0230 - accuracy: 0.9920\n",
            "Epoch 38/100\n",
            "55/55 [==============================] - 0s 7ms/step - loss: 0.0237 - accuracy: 0.9920\n",
            "Epoch 39/100\n",
            "55/55 [==============================] - 0s 7ms/step - loss: 0.0188 - accuracy: 0.9937\n",
            "Epoch 40/100\n",
            "55/55 [==============================] - 0s 7ms/step - loss: 0.0172 - accuracy: 0.9949\n",
            "Epoch 41/100\n",
            "55/55 [==============================] - 0s 7ms/step - loss: 0.0161 - accuracy: 0.9949\n",
            "Epoch 42/100\n",
            "55/55 [==============================] - 0s 7ms/step - loss: 0.0209 - accuracy: 0.9909\n",
            "Epoch 43/100\n",
            "55/55 [==============================] - 0s 7ms/step - loss: 0.0197 - accuracy: 0.9926\n",
            "Epoch 44/100\n",
            "55/55 [==============================] - 0s 7ms/step - loss: 0.0159 - accuracy: 0.9949\n",
            "Epoch 45/100\n",
            "55/55 [==============================] - 0s 7ms/step - loss: 0.0173 - accuracy: 0.9949\n",
            "Epoch 46/100\n",
            "55/55 [==============================] - 0s 7ms/step - loss: 0.0160 - accuracy: 0.9955\n",
            "Epoch 47/100\n",
            "55/55 [==============================] - 0s 7ms/step - loss: 0.0155 - accuracy: 0.9943\n",
            "Epoch 48/100\n",
            "55/55 [==============================] - 0s 7ms/step - loss: 0.0159 - accuracy: 0.9949\n",
            "Epoch 49/100\n",
            "55/55 [==============================] - 0s 7ms/step - loss: 0.0158 - accuracy: 0.9955\n",
            "Epoch 50/100\n",
            "55/55 [==============================] - 0s 7ms/step - loss: 0.0153 - accuracy: 0.9943\n",
            "Epoch 51/100\n",
            "55/55 [==============================] - 0s 7ms/step - loss: 0.0138 - accuracy: 0.9943\n",
            "Epoch 52/100\n",
            "55/55 [==============================] - 0s 7ms/step - loss: 0.0129 - accuracy: 0.9949\n",
            "Epoch 53/100\n",
            "55/55 [==============================] - 0s 7ms/step - loss: 0.0182 - accuracy: 0.9920\n",
            "Epoch 54/100\n",
            "55/55 [==============================] - 0s 7ms/step - loss: 0.0131 - accuracy: 0.9949\n",
            "Epoch 55/100\n",
            "55/55 [==============================] - 0s 7ms/step - loss: 0.0124 - accuracy: 0.9972\n",
            "Epoch 56/100\n",
            "55/55 [==============================] - 0s 7ms/step - loss: 0.0133 - accuracy: 0.9943\n",
            "Epoch 57/100\n",
            "55/55 [==============================] - 0s 7ms/step - loss: 0.0136 - accuracy: 0.9955\n",
            "Epoch 58/100\n",
            "55/55 [==============================] - 0s 7ms/step - loss: 0.0128 - accuracy: 0.9943\n",
            "Epoch 59/100\n",
            "55/55 [==============================] - 0s 7ms/step - loss: 0.0109 - accuracy: 0.9960\n",
            "Epoch 60/100\n",
            "55/55 [==============================] - 0s 7ms/step - loss: 0.0169 - accuracy: 0.9937\n",
            "Epoch 61/100\n",
            "55/55 [==============================] - 0s 7ms/step - loss: 0.0193 - accuracy: 0.9932\n",
            "Epoch 62/100\n",
            "55/55 [==============================] - 0s 6ms/step - loss: 0.0192 - accuracy: 0.9943\n",
            "Epoch 63/100\n",
            "55/55 [==============================] - 0s 7ms/step - loss: 0.0254 - accuracy: 0.9903\n",
            "Epoch 64/100\n",
            "55/55 [==============================] - 0s 7ms/step - loss: 0.0369 - accuracy: 0.9852\n",
            "Epoch 65/100\n",
            "55/55 [==============================] - 0s 8ms/step - loss: 0.0202 - accuracy: 0.9943\n",
            "Epoch 66/100\n",
            "55/55 [==============================] - 0s 7ms/step - loss: 0.0105 - accuracy: 0.9972\n",
            "Epoch 67/100\n",
            "55/55 [==============================] - 0s 7ms/step - loss: 0.0114 - accuracy: 0.9949\n",
            "Epoch 68/100\n",
            "55/55 [==============================] - 0s 7ms/step - loss: 0.0113 - accuracy: 0.9949\n",
            "Epoch 69/100\n",
            "55/55 [==============================] - 0s 7ms/step - loss: 0.0123 - accuracy: 0.9955\n",
            "Epoch 70/100\n",
            "55/55 [==============================] - 0s 7ms/step - loss: 0.0102 - accuracy: 0.9960\n",
            "Epoch 71/100\n",
            "55/55 [==============================] - 0s 7ms/step - loss: 0.0117 - accuracy: 0.9960\n",
            "Epoch 72/100\n",
            "55/55 [==============================] - 0s 7ms/step - loss: 0.0165 - accuracy: 0.9943\n",
            "Epoch 73/100\n",
            "55/55 [==============================] - 0s 7ms/step - loss: 0.0240 - accuracy: 0.9903\n",
            "Epoch 74/100\n",
            "55/55 [==============================] - 0s 7ms/step - loss: 0.0232 - accuracy: 0.9926\n",
            "Epoch 75/100\n",
            "55/55 [==============================] - 0s 6ms/step - loss: 0.0084 - accuracy: 0.9966\n",
            "Epoch 76/100\n",
            "55/55 [==============================] - 0s 7ms/step - loss: 0.0085 - accuracy: 0.9972\n",
            "Epoch 77/100\n",
            "55/55 [==============================] - 0s 7ms/step - loss: 0.0085 - accuracy: 0.9966\n",
            "Epoch 78/100\n",
            "55/55 [==============================] - 0s 7ms/step - loss: 0.0129 - accuracy: 0.9960\n",
            "Epoch 79/100\n",
            "55/55 [==============================] - 0s 7ms/step - loss: 0.0119 - accuracy: 0.9960\n",
            "Epoch 80/100\n",
            "55/55 [==============================] - 0s 7ms/step - loss: 0.0090 - accuracy: 0.9966\n",
            "Epoch 81/100\n",
            "55/55 [==============================] - 0s 7ms/step - loss: 0.0070 - accuracy: 0.9977\n",
            "Epoch 82/100\n",
            "55/55 [==============================] - 0s 7ms/step - loss: 0.0102 - accuracy: 0.9966\n",
            "Epoch 83/100\n",
            "55/55 [==============================] - 0s 7ms/step - loss: 0.0112 - accuracy: 0.9943\n",
            "Epoch 84/100\n",
            "55/55 [==============================] - 0s 8ms/step - loss: 0.0100 - accuracy: 0.9960\n",
            "Epoch 85/100\n",
            "55/55 [==============================] - 0s 7ms/step - loss: 0.0133 - accuracy: 0.9943\n",
            "Epoch 86/100\n",
            "55/55 [==============================] - 0s 7ms/step - loss: 0.0092 - accuracy: 0.9972\n",
            "Epoch 87/100\n",
            "55/55 [==============================] - 0s 7ms/step - loss: 0.0095 - accuracy: 0.9983\n",
            "Epoch 88/100\n",
            "55/55 [==============================] - 0s 7ms/step - loss: 0.0092 - accuracy: 0.9955\n",
            "Epoch 89/100\n",
            "55/55 [==============================] - 0s 7ms/step - loss: 0.0098 - accuracy: 0.9966\n",
            "Epoch 90/100\n",
            "55/55 [==============================] - 0s 7ms/step - loss: 0.0101 - accuracy: 0.9949\n",
            "Epoch 91/100\n",
            "55/55 [==============================] - 0s 8ms/step - loss: 0.0058 - accuracy: 0.9983\n",
            "Epoch 92/100\n",
            "55/55 [==============================] - 0s 7ms/step - loss: 0.0070 - accuracy: 0.9989\n",
            "Epoch 93/100\n",
            "55/55 [==============================] - 0s 7ms/step - loss: 0.0054 - accuracy: 0.9977\n",
            "Epoch 94/100\n",
            "55/55 [==============================] - 0s 7ms/step - loss: 0.0049 - accuracy: 0.9977\n",
            "Epoch 95/100\n",
            "55/55 [==============================] - 0s 7ms/step - loss: 0.0110 - accuracy: 0.9955\n",
            "Epoch 96/100\n",
            "55/55 [==============================] - 0s 7ms/step - loss: 0.0077 - accuracy: 0.9960\n",
            "Epoch 97/100\n",
            "55/55 [==============================] - 0s 8ms/step - loss: 0.0059 - accuracy: 0.9972\n",
            "Epoch 98/100\n",
            "55/55 [==============================] - 0s 7ms/step - loss: 0.0050 - accuracy: 0.9977\n",
            "Epoch 99/100\n",
            "55/55 [==============================] - 0s 6ms/step - loss: 0.0057 - accuracy: 0.9983\n",
            "Epoch 100/100\n",
            "55/55 [==============================] - 0s 7ms/step - loss: 0.0045 - accuracy: 0.9994\n"
          ]
        },
        {
          "data": {
            "text/plain": [
              "<keras.callbacks.History at 0x183f81aebb0>"
            ]
          },
          "execution_count": 44,
          "metadata": {},
          "output_type": "execute_result"
        }
      ],
      "source": [
        "model.compile(loss='categorical_crossentropy',optimizer='adam',metrics=['accuracy'])\n",
        "model.fit(x_train,y_train,epochs=100,batch_size=32)"
      ]
    },
    {
      "cell_type": "code",
      "execution_count": 45,
      "metadata": {},
      "outputs": [
        {
          "name": "stdout",
          "output_type": "stream",
          "text": [
            "14/14 [==============================] - 0s 3ms/step\n"
          ]
        }
      ],
      "source": [
        "y_pred = model.predict(x_test)"
      ]
    },
    {
      "cell_type": "code",
      "execution_count": 46,
      "metadata": {},
      "outputs": [
        {
          "data": {
            "text/plain": [
              "2"
            ]
          },
          "execution_count": 46,
          "metadata": {},
          "output_type": "execute_result"
        }
      ],
      "source": [
        "len(np.unique(y_test))"
      ]
    },
    {
      "cell_type": "code",
      "execution_count": 47,
      "metadata": {},
      "outputs": [
        {
          "data": {
            "text/plain": [
              "9312"
            ]
          },
          "execution_count": 47,
          "metadata": {},
          "output_type": "execute_result"
        }
      ],
      "source": [
        "len(np.unique(y_pred))"
      ]
    },
    {
      "cell_type": "code",
      "execution_count": null,
      "metadata": {},
      "outputs": [],
      "source": []
    },
    {
      "cell_type": "code",
      "execution_count": 48,
      "metadata": {},
      "outputs": [
        {
          "data": {
            "text/plain": [
              "((440, 22), (440, 22))"
            ]
          },
          "execution_count": 48,
          "metadata": {},
          "output_type": "execute_result"
        }
      ],
      "source": [
        "y_test.shape,y_pred.shape"
      ]
    },
    {
      "cell_type": "code",
      "execution_count": null,
      "metadata": {},
      "outputs": [],
      "source": []
    },
    {
      "cell_type": "markdown",
      "metadata": {},
      "source": [
        "Basic Method to calculate the accuracy ....Works for any model..\n"
      ]
    },
    {
      "cell_type": "code",
      "execution_count": 51,
      "metadata": {},
      "outputs": [],
      "source": [
        "# y_pred = model.predict(x_test)\n",
        "\n",
        "# y_pred_labels = np.argmax(y_pred,axis=1)\n",
        "\n",
        "# y_pred_labels.shape\n",
        "# num_correct_predictions = np.sum(y_pred_labels == y_test)\n",
        "\n",
        "# total_data_points = len(y_test)\n",
        "# accuracy = num_correct_predictions / total_data_points\n",
        "\n",
        "# accuracy_percentage = accuracy*100\n",
        "\n",
        "# print(\"Accuracy : \" ,accuracy_percentage, \"%\")\n",
        "\n",
        "\n",
        "\n",
        "\n",
        "# ## If after running this cell gives you the \" operands could not be broadcast together with shapes (440,) (440,22) \" error message then you need to match the shape \n",
        "# ## between \"y_pred_labels\" and \"y_test\" ....for this the correct code is given in next cell"
      ]
    },
    {
      "cell_type": "code",
      "execution_count": null,
      "metadata": {},
      "outputs": [],
      "source": []
    },
    {
      "cell_type": "code",
      "execution_count": 58,
      "metadata": {},
      "outputs": [
        {
          "name": "stdout",
          "output_type": "stream",
          "text": [
            "14/14 [==============================] - 0s 4ms/step\n",
            "Accuracy : 97.04545454545455 %\n"
          ]
        }
      ],
      "source": [
        "# ypred = model.predict(x_test)\n",
        "\n",
        "# y_test_labels = np.argmax(y_test,axis=1)\n",
        "# y_pred_labels = np.argmax(y_pred,axis=1)\n",
        "\n",
        "\n",
        "# num_correct_predictions = np.sum(y_pred_labels == y_test_labels)\n",
        "# total_data_points = len(y_test)\n",
        "# accuracy = num_correct_predictions / total_data_points\n",
        "\n",
        "# accuracy_percentage = accuracy*100\n",
        "\n",
        "# print(\"Accuracy :\",accuracy_percentage,\"%\")\n",
        "\n"
      ]
    },
    {
      "cell_type": "code",
      "execution_count": 59,
      "metadata": {},
      "outputs": [
        {
          "name": "stdout",
          "output_type": "stream",
          "text": [
            "14/14 [==============================] - 0s 13ms/step - loss: 0.1173 - accuracy: 0.9705\n",
            "Accuracy: 0.9704545736312866\n"
          ]
        }
      ],
      "source": [
        "loss,accuracy = model.evaluate(x_test,y_test)\n",
        "print(\"Accuracy:\",accuracy)"
      ]
    },
    {
      "cell_type": "code",
      "execution_count": null,
      "metadata": {},
      "outputs": [],
      "source": []
    }
  ],
  "metadata": {
    "colab": {
      "provenance": []
    },
    "kernelspec": {
      "display_name": "Python 3",
      "name": "python3"
    },
    "language_info": {
      "codemirror_mode": {
        "name": "ipython",
        "version": 3
      },
      "file_extension": ".py",
      "mimetype": "text/x-python",
      "name": "python",
      "nbconvert_exporter": "python",
      "pygments_lexer": "ipython3",
      "version": "3.9.17"
    }
  },
  "nbformat": 4,
  "nbformat_minor": 0
}
